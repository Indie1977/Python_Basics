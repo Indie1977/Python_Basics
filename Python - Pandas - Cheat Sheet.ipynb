{
 "cells": [
  {
   "cell_type": "markdown",
   "metadata": {},
   "source": [
    " # Creating Dataframes"
   ]
  },
  {
   "cell_type": "code",
   "execution_count": null,
   "metadata": {},
   "outputs": [],
   "source": [
    "# Before we analyze anything, we need to import pandas\n",
    "import pandas as pd\n",
    "\n",
    "# Reading data from a csv file:\n",
    "df = pd.read_csv('students.csv')\n",
    "\n",
    "# Writing data to a csv file:\n",
    "df = pd.to_csv('students_new.csv')\n",
    "\n",
    "# Example of a .csv format in python, note no spaces before or after commas\n",
    "name,cake_flavor,frosting_flavor,topping\n",
    "Chocolate Cake,chocolate,chocolate,chocolate shavings\n",
    "Birthday Cake,vanilla,vanilla,rainbow sprinkles\n",
    "Carrot cake,carrot,cream cheese,almonds"
   ]
  },
  {
   "cell_type": "code",
   "execution_count": null,
   "metadata": {},
   "outputs": [],
   "source": [
    "# Ways of creating a Pandas DataFrame\n",
    "\n",
    "# When creating from scratch must add the same number of fields in each row, or will not create a Dataframe object.\n",
    "\n",
    "# Passing in a dictionary:\n",
    "data = {'name':['Anthony', 'Maria'], 'age':[30, 28]}\n",
    "df = pd.DataFrame(data)\n",
    "\n",
    "# Passing in a dictionary 2\n",
    "df1 = pd.DataFrame({\n",
    "    'name': ['John Smith', 'Jane Doe', 'Joe Schmo'],\n",
    "    'address': ['123 Main St.', '456 Maple Ave.', '789 Broadway'],\n",
    "    'age': [34, 28, 51]\n",
    "})\n",
    "\n",
    "# Passing in a list of lists:\n",
    "data = [['Tom', 20], ['Jack', 30], ['Meera', 25]]\n",
    "df = pd.DataFrame(data, columns = ['Name', 'Age'])\n",
    "\n",
    "#Passing in a list of lists 2\n",
    "df2 = pd.DataFrame([\n",
    "    ['John Smith', '123 Main St.', 34],\n",
    "    ['Jane Doe', '456 Maple Ave.', 28],\n",
    "    ['Joe Schmo', '789 Broadway', 51]\n",
    "    ],\n",
    "    columns=['name', 'address', 'age'])\n",
    " "
   ]
  },
  {
   "cell_type": "markdown",
   "metadata": {},
   "source": [
    "# Previewing Data"
   ]
  },
  {
   "cell_type": "code",
   "execution_count": null,
   "metadata": {},
   "outputs": [],
   "source": [
    "# Previewing data\n",
    "\n",
    "# Gives the top 5 rows\n",
    "df.head()\n",
    "\n",
    "# Or choose the number of rows\n",
    "df.head(10)\n",
    "\n",
    "# Gives statistics on each column\n",
    "df.info()"
   ]
  },
  {
   "cell_type": "markdown",
   "metadata": {},
   "source": [
    "# Selecting Columns"
   ]
  },
  {
   "cell_type": "code",
   "execution_count": 1,
   "metadata": {},
   "outputs": [
    {
     "ename": "NameError",
     "evalue": "name 'pd' is not defined",
     "output_type": "error",
     "traceback": [
      "\u001b[1;31m---------------------------------------------------------------------------\u001b[0m",
      "\u001b[1;31mNameError\u001b[0m                                 Traceback (most recent call last)",
      "\u001b[1;32m<ipython-input-1-a13193720caa>\u001b[0m in \u001b[0;36m<module>\u001b[1;34m\u001b[0m\n\u001b[0;32m      3\u001b[0m \u001b[1;33m\u001b[0m\u001b[0m\n\u001b[0;32m      4\u001b[0m \u001b[1;31m# Creating a series\u001b[0m\u001b[1;33m\u001b[0m\u001b[1;33m\u001b[0m\u001b[1;33m\u001b[0m\u001b[0m\n\u001b[1;32m----> 5\u001b[1;33m \u001b[0mclinic_east\u001b[0m \u001b[1;33m=\u001b[0m \u001b[0mpd\u001b[0m\u001b[1;33m.\u001b[0m\u001b[0mSeries\u001b[0m\u001b[1;33m(\u001b[0m\u001b[1;33m[\u001b[0m\u001b[1;36m100\u001b[0m\u001b[1;33m,\u001b[0m \u001b[1;36m51\u001b[0m\u001b[1;33m,\u001b[0m \u001b[1;36m81\u001b[0m\u001b[1;33m,\u001b[0m \u001b[1;36m80\u001b[0m\u001b[1;33m,\u001b[0m \u001b[1;36m51\u001b[0m\u001b[1;33m,\u001b[0m \u001b[1;36m112\u001b[0m\u001b[1;33m]\u001b[0m\u001b[1;33m)\u001b[0m\u001b[1;33m\u001b[0m\u001b[1;33m\u001b[0m\u001b[0m\n\u001b[0m\u001b[0;32m      6\u001b[0m \u001b[1;33m\u001b[0m\u001b[0m\n\u001b[0;32m      7\u001b[0m \u001b[1;31m# A dataframe is a two-dimensional object that can hold multiple columns of different types of data. They are similar to a table in SQL.\u001b[0m\u001b[1;33m\u001b[0m\u001b[1;33m\u001b[0m\u001b[1;33m\u001b[0m\u001b[0m\n",
      "\u001b[1;31mNameError\u001b[0m: name 'pd' is not defined"
     ]
    }
   ],
   "source": [
    "# Selecting a single column the result is called a Series, which is a one-dimensional object, similar to a Numpy array\n",
    "# Series objects have a single axis label, like a column title, which is the index of the series. \n",
    "# A series is essentially a single column.\n",
    "\n",
    "# Creating a series\n",
    "clinic_east = pd.Series([100, 51, 81, 80, 51, 112])\n",
    "\n",
    "# A dataframe is a two-dimensional object that can hold multiple columns of different types of data. \n",
    "# They are similar to a table in SQL.\n",
    "# A single column of a dataframe is a series, and a dataframe is a container of two or more series objects.\n",
    "\n",
    "print(type(df['clinic_north']))\n",
    "# prints: <class 'pandas.core.series.Series'>\n",
    "print(type(df))\n",
    "# prints: <class 'pandas.core.frame.DataFrame'>"
   ]
  },
  {
   "cell_type": "code",
   "execution_count": null,
   "metadata": {},
   "outputs": [],
   "source": [
    "# Selecting Columns\n",
    "# There are two possible syntaxes for selecting all values from a column:\n",
    "\n",
    "df['column_name']\n",
    "# and\n",
    "df.column_name\n",
    "# Selecting rows where age is over 20\n",
    "df[df.age > 20]\n",
    " \n",
    "# Selectng rows where name is not John\n",
    "df[df.name != \"John\"]\n",
    " \n",
    "# Multiple logical conditions can be combined with OR (using |) and AND (using &), \n",
    "# and each condition must be enclosed in parentheses.\n",
    "\n",
    "# Selecting rows where age is less than 10\n",
    "# OR greater than 70\n",
    "df[(df.age < 10) | (df.age > 70)]\n",
    "\n",
    "df[(df.shoe_type == 'sandals') & (df.shoe_color == 'black')]\n"
   ]
  },
  {
   "cell_type": "code",
   "execution_count": null,
   "metadata": {},
   "outputs": [],
   "source": [
    "# Selecting multiple columns\n",
    "# Use a list of column names, double brackets!!\n",
    "\n",
    "new_df = orders[['last_name', 'email']]\n"
   ]
  },
  {
   "cell_type": "markdown",
   "metadata": {},
   "source": [
    "# Selecting Rows"
   ]
  },
  {
   "cell_type": "code",
   "execution_count": null,
   "metadata": {},
   "outputs": [],
   "source": [
    "# Selecting Rows\n",
    "\n",
    "# A row is also a one-dimensional object, also called a Series\n",
    "\n",
    "# Using indexing (third row)\n",
    "df.iloc[2]\n",
    "\n",
    "\n",
    "# Selecting Multiple Rows\n",
    "\n",
    "# all rows starting at the 3rd row and up to but not including the 7th row\n",
    "df.iloc[3:7]\n",
    "# would select all rows up to, but not including the 4th row\n",
    "df.iloc[:4]\n",
    "# would select the rows starting at the 3rd to last row and up to and including the final row\n",
    "df.iloc[-3:]\n",
    "\n",
    "\n",
    "# Can we skip rows? To skip a certain number of indexes per index, we can include a third, step, value.\n",
    "\n",
    "# This selects values at indexes 0, 3, 6, 9.\n",
    "# Python list\n",
    "numbers[0:10:3]\n",
    "\n",
    "# even rows only\n",
    "orders.iloc[[0, 2, 4, 6]] "
   ]
  },
  {
   "cell_type": "code",
   "execution_count": null,
   "metadata": {},
   "outputs": [],
   "source": [
    "# Select Rows with Logic\n",
    "# You can select a subset of a DataFrame by using logical statements\n",
    "\n",
    "# Return only columns that I want\n",
    "df[df.MyColumnName == 'desired_column_value']\n",
    "\n",
    "# This logical statement is comparing the values of column `buy_price`and column `sell_price`\n",
    "gains = df[df.buy_price < df.sell_price]\n",
    "\n",
    "\n",
    "# You can also combine multiple logical statements, as long as each statement is in parentheses.\n",
    "# In Python, | means “or” and & means “and”.\n",
    "\n",
    "df[(df.age < 30) |\n",
    "   (df.name == 'Martha Jones')]\n",
    "\n",
    "# We could use the isin command to check that df.name is one of a list of values. \n",
    "df[df.column_name.isin(['Martha Jones',\n",
    "     'Rose Tyler',\n",
    "     'Amy Pond'])]"
   ]
  },
  {
   "cell_type": "markdown",
   "metadata": {},
   "source": [
    "# Resetting Indices"
   ]
  },
  {
   "cell_type": "code",
   "execution_count": null,
   "metadata": {},
   "outputs": [],
   "source": [
    "\n",
    "# When we select a subset of a DataFrame using logic, we end up with non-consecutive indices.\n",
    "# We can fix this using the method .reset_index(). \n",
    "# drop=True means the old indices are NOT retained in a new column called , but dropped instead.\n",
    "# inplace=True means that the existing DataFrame is modified, a new one is not created.\n",
    "\n",
    "df.reset_index(drop=True, inplace=True)\n",
    "\n",
    "# Note it's possible to set the index to a non-integer value, to the values of another column for instance,\n",
    "# EG: the Country name of a Country Demographic Dataframe."
   ]
  },
  {
   "cell_type": "markdown",
   "metadata": {},
   "source": [
    " # Modifying Dataframes"
   ]
  },
  {
   "cell_type": "markdown",
   "metadata": {},
   "source": [
    "#### New Columns"
   ]
  },
  {
   "cell_type": "code",
   "execution_count": null,
   "metadata": {},
   "outputs": [],
   "source": [
    "# New columns\n",
    "# Pandas DataFrames allow for the addition of columns after the DataFrame has already been created, \n",
    "# by using the format df['newColumn'] and setting it equal to the new column’s value.\n",
    "\n",
    "# Specifying each value in the new column:\n",
    "df['newColumn'] = [1, 2, 3, 4] \n",
    " \n",
    "# Setting each row in the new column to the same value:\n",
    "df['newColumn'] = 1\n",
    "df['Is taxed?'] = 'Yes'\n",
    "df['Shipped?'] = True\n",
    "\n",
    "\n",
    "\n",
    "# Creating a new column by doing a \n",
    "# calculation on an existing column:\n",
    "df['newColumn'] = df['oldColumn'] * 5\n",
    "\n",
    "# Note both ways to call a column / Pandas Series - dot or [brackets]\n",
    "df['Margin'] = df.Price - df['Cost to Manufacture']\n",
    "\n",
    "# We can perform an operation using multiple columns:\n",
    "df['total'] = (df.price + (df.price * df.tax)) * df.quantity\n",
    "\n",
    "\n",
    "\n",
    "\n",
    "# By default this will add the new column to the end of the table. You can use insert() method with indexing.\n",
    "\n",
    "# Third position would be at index 2, because of zero-indexing.\n",
    "df.insert(2, 'new-col', data)"
   ]
  },
  {
   "cell_type": "markdown",
   "metadata": {},
   "source": [
    "#### Modify Columns and Rows"
   ]
  },
  {
   "cell_type": "code",
   "execution_count": null,
   "metadata": {},
   "outputs": [],
   "source": [
    "# apply()\n",
    "\n",
    "# The Pandas apply() function can be used to apply a function on every value in a column or row of a DataFrame, \n",
    "# and transform that column or row to the resulting values.\n",
    "# By default, it will apply a function to all values of a column. \n",
    "# To perform it on a row instead, you can specify the argument axis=1 in the apply() function call.\n",
    "\n",
    "# EG: Create a new column from an existing column, applying lowercase formatting to it.\n",
    "df['Lowercase Name'] = df.Name.apply(str.upper)\n",
    "\n",
    "\n",
    "# You cannot use inplace=True like other methods, must reassign it.\n",
    "# So CANNOT do...\n",
    "df.apply(my_lambda)\n",
    "# MUST reassign to df by doing...\n",
    "df = df.apply(my_lambda)\n",
    "\n",
    "\n",
    "\n",
    "# This function doubles the input value\n",
    "def double(x):\n",
    "  return 2*x\n",
    " \n",
    "# Apply this function to double every value in a specified column\n",
    "df.column1 = df.column1.apply(double)\n",
    " \n",
    "    \n",
    "    \n",
    "# Lambda functions can also be supplied to `apply()`\n",
    "# A lambda function is a way of defining a function in a single line of code. Usually, we would assign them to a variable.\n",
    "\n",
    "For example, the following lambda function multiplies a number by 2 and then adds 3:\n",
    "mylambda = lambda x: (x * 2) + 3\n",
    "print(mylambda(5))\n",
    "# Prints 13\n",
    "\n",
    "# Here is an example that takes in a string, assigns it to the temporary variable x, and then converts it into lowercase:\n",
    "stringlambda = lambda x: x.lower()\n",
    "print(stringlambda(\"Oh Hi Mark!\"))\n",
    "# Prints \"oh hi mark!\"\n",
    "    \n",
    "df.column2 = df.column2.apply(lambda x : 3*x)\n",
    " \n",
    "# Applying to a row requires it to be called on the entire DataFrame\n",
    "df['newColumn'] = df.apply(lambda row: \n",
    "  row['column1'] * 1.5 + row['column2'],\n",
    "  axis=1\n",
    ")"
   ]
  }
 ],
 "metadata": {
  "kernelspec": {
   "display_name": "Python 3",
   "language": "python",
   "name": "python3"
  },
  "language_info": {
   "codemirror_mode": {
    "name": "ipython",
    "version": 3
   },
   "file_extension": ".py",
   "mimetype": "text/x-python",
   "name": "python",
   "nbconvert_exporter": "python",
   "pygments_lexer": "ipython3",
   "version": "3.8.5"
  }
 },
 "nbformat": 4,
 "nbformat_minor": 4
}
